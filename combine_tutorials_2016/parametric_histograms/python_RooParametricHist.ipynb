{
 "cells": [
  {
   "cell_type": "markdown",
   "metadata": {},
   "source": [
    "## Create Histograms with parameteric bin contents"
   ]
  },
  {
   "cell_type": "markdown",
   "metadata": {},
   "source": [
    "Enable visualisation with JS and import ROOT"
   ]
  },
  {
   "cell_type": "code",
   "execution_count": null,
   "metadata": {
    "collapsed": false
   },
   "outputs": [],
   "source": [
    "import ROOT\n",
    "%jsroot on"
   ]
  },
  {
   "cell_type": "markdown",
   "metadata": {},
   "source": [
    "Create workspace as input to combine"
   ]
  },
  {
   "cell_type": "code",
   "execution_count": null,
   "metadata": {
    "collapsed": false
   },
   "outputs": [],
   "source": [
    "fOut = ROOT.TFile(\"param_ws.root\",\"RECREATE\")\n",
    "wspace = ROOT.RooWorkspace(\"wspace\",\"wspace\")\n",
    "wspace_import = getattr(wspace,\"import\")\n",
    "\n",
    "ROOT.gSystem.Load(\"/cvmfs/sft.cern.ch/lcg/releases/LCG_85swan3/vdt/0.3.6/x86_64-slc6-gcc49-opt/lib/libvdt.so\")\n",
    "ROOT.gSystem.Load(\"../../lib/libHiggsAnalysisCombinedLimit.so\")"
   ]
  },
  {
   "cell_type": "markdown",
   "metadata": {},
   "source": [
    " Make the RooRealVar variable as the observable for the search"
   ]
  },
  {
   "cell_type": "code",
   "execution_count": null,
   "metadata": {
    "collapsed": false
   },
   "outputs": [],
   "source": [
    "met = ROOT.RooRealVar(\"met\",\"E_{T}^{miss}\",200,1000)\n",
    "plot = met.frame()"
   ]
  },
  {
   "cell_type": "markdown",
   "metadata": {},
   "source": [
    "# Signal region\n",
    "\n",
    "Make a data set for our signal region and import that into the workspace"
   ]
  },
  {
   "cell_type": "code",
   "execution_count": null,
   "metadata": {
    "collapsed": false
   },
   "outputs": [],
   "source": [
    "data_th1 = ROOT.TH1F(\"data_obs_SR\",\"Data observed in signal region\",4,200,1000)\n",
    "data_th1.SetBinContent(1,100)\n",
    "data_th1.SetBinContent(2,50)\n",
    "data_th1.SetBinContent(3,25)\n",
    "data_th1.SetBinContent(4,10)\n",
    "data_hist = ROOT.RooDataHist(\"data_obs_SR\",\"Data observed\",ROOT.RooArgList(met),data_th1)\n",
    "wspace_import(data_hist)\n",
    "data_hist.plotOn(plot)"
   ]
  },
  {
   "cell_type": "code",
   "execution_count": null,
   "metadata": {
    "collapsed": false
   },
   "outputs": [],
   "source": [
    "c = ROOT.TCanvas()\n",
    "plot.Draw()\n",
    "c.Draw()"
   ]
  },
  {
   "cell_type": "markdown",
   "metadata": {},
   "source": [
    "Now create the parametric binned template for the background \n",
    "\n",
    "Each bin will have its own parameter representing the rate in that bin"
   ]
  },
  {
   "cell_type": "code",
   "execution_count": null,
   "metadata": {
    "collapsed": false
   },
   "outputs": [],
   "source": [
    "bin1 = ROOT.RooRealVar(\"bkg_SR_bin1\",\"Background yield in signal region, bin 1\",100,0,500)\n",
    "bin2 = ROOT.RooRealVar(\"bkg_SR_bin2\",\"Background yield in signal region, bin 2\",50,0,500)\n",
    "bin3 = ROOT.RooRealVar(\"bkg_SR_bin3\",\"Background yield in signal region, bin 3\",25,0,500)\n",
    "bin4 = ROOT.RooRealVar(\"bkg_SR_bin4\",\"Background yield in signal region, bin 4\",10,0,500)\n",
    "\n",
    "bkg_SR_bins = ROOT.RooArgList()\n",
    "bkg_SR_bins.add(bin1)\n",
    "bkg_SR_bins.add(bin2)\n",
    "bkg_SR_bins.add(bin3)\n",
    "bkg_SR_bins.add(bin4)\n",
    "\n",
    "p_bkg = ROOT.RooParametricHist(\"bkg_SR\", \"Background PDF in signal region\",met,bkg_SR_bins,data_th1)"
   ]
  },
  {
   "cell_type": "markdown",
   "metadata": {},
   "source": [
    "If we fit this to the data, we should get back the number of data in each bins as the MLEs "
   ]
  },
  {
   "cell_type": "code",
   "execution_count": null,
   "metadata": {
    "collapsed": false
   },
   "outputs": [],
   "source": [
    "p_bkg.fitTo(data_hist)\n",
    "p_bkg.plotOn(plot)\n",
    "c2 = ROOT.TCanvas()\n",
    "plot.Draw()\n",
    "c2.Draw()"
   ]
  },
  {
   "cell_type": "markdown",
   "metadata": {},
   "source": [
    "# Control region"
   ]
  },
  {
   "cell_type": "code",
   "execution_count": null,
   "metadata": {
    "collapsed": false
   },
   "outputs": [],
   "source": [
    "data_CRth1 = ROOT.TH1F(\"data_obs_CR\",\"Data observed in control region\",4,200,1000)\n",
    "data_CRth1.SetBinContent(1,200)\n",
    "data_CRth1.SetBinContent(2,100)\n",
    "data_CRth1.SetBinContent(3,50)\n",
    "data_CRth1.SetBinContent(4,20)\n",
    "data_CRhist = ROOT.RooDataHist(\"data_obs_CR\",\"Data observed\",ROOT.RooArgList(met),data_CRth1)\n",
    "wspace_import(data_CRhist)"
   ]
  },
  {
   "cell_type": "markdown",
   "metadata": {},
   "source": [
    "This time the parameters for the histogram in the control region will be functions of those in the signal region"
   ]
  },
  {
   "cell_type": "code",
   "execution_count": null,
   "metadata": {
    "collapsed": false
   },
   "outputs": [],
   "source": [
    "TF = ROOT.RooRealVar(\"TF\",\"Transfer factor\",2) \n",
    "TF.setConstant() \n",
    "\n",
    "me = ROOT.RooRealVar(\"muon_eff\",\"Muon efficiency\",0,-4,4)\n",
    "\n",
    "CRbin1 = ROOT.RooFormulaVar(\"bkg_CR_bin1\",\"Background yield in CR, bin 1\",\"@0*@1*(1+0.005*@2)\",ROOT.RooArgList(TF,bin1,me))\n",
    "CRbin2 = ROOT.RooFormulaVar(\"bkg_CR_bin2\",\"Background yield in CR, bin 2\",\"@0*@1*(1+0.01*@2)\",ROOT.RooArgList(TF,bin2,me))\n",
    "CRbin3 = ROOT.RooFormulaVar(\"bkg_CR_bin3\",\"Background yield in CR, bin 3\",\"@0*@1*(1+0.02*@2)\",ROOT.RooArgList(TF,bin3,me))\n",
    "CRbin4 = ROOT.RooFormulaVar(\"bkg_CR_bin4\",\"Background yield in CR, bin 4\",\"@0*@1*(1+0.04*@2)\",ROOT.RooArgList(TF,bin4,me))\n",
    "  \n",
    "bkg_CR_bins = ROOT.RooArgList()\n",
    "bkg_CR_bins.add(CRbin1)\n",
    "bkg_CR_bins.add(CRbin2)\n",
    "bkg_CR_bins.add(CRbin3)\n",
    "bkg_CR_bins.add(CRbin4)\n",
    "\n",
    "p_CRbkg = ROOT.RooParametricHist(\"bkg_CR\", \"Background PDF in control region\",met,bkg_CR_bins,data_th1)"
   ]
  },
  {
   "cell_type": "markdown",
   "metadata": {},
   "source": [
    "Make the usual `_norm` parameters for the two RooParametricHists, this can just be the sum of bins"
   ]
  },
  {
   "cell_type": "code",
   "execution_count": null,
   "metadata": {
    "collapsed": false
   },
   "outputs": [],
   "source": [
    "p_bkg_norm = ROOT.RooAddition(\"bkg_SR_norm\",\"Total Number of events from background in signal region\",bkg_SR_bins)\n",
    "p_CRbkg_norm = ROOT.RooAddition(\"bkg_CR_norm\",\"Total Number of events from background in control region\",bkg_CR_bins)\n",
    "\n",
    "wspace_import(p_bkg)\n",
    "wspace_import(p_bkg_norm)\n",
    "\n",
    "wspace_import(p_CRbkg)\n",
    "wspace_import(p_CRbkg_norm,ROOT.RooFit.RecycleConflictNodes())"
   ]
  },
  {
   "cell_type": "markdown",
   "metadata": {},
   "source": [
    "Finally, create a signal histogram template"
   ]
  },
  {
   "cell_type": "code",
   "execution_count": null,
   "metadata": {
    "collapsed": false
   },
   "outputs": [],
   "source": [
    "signal_th1 = ROOT.TH1F(\"signal_SR\",\"Signal expected in signal region\",4,200,1000)\n",
    "signal_th1.SetBinContent(1,1)\n",
    "signal_th1.SetBinContent(2,2)\n",
    "signal_th1.SetBinContent(3,3)\n",
    "signal_th1.SetBinContent(4,8)\n",
    "signal_hist = ROOT.RooDataHist(\"signal\",\"Data observed\",ROOT.RooArgList(met),signal_th1)\n",
    "wspace_import(signal_hist)"
   ]
  },
  {
   "cell_type": "code",
   "execution_count": null,
   "metadata": {
    "collapsed": false,
    "scrolled": false
   },
   "outputs": [],
   "source": [
    "wspace.Print(\"V\")"
   ]
  },
  {
   "cell_type": "code",
   "execution_count": null,
   "metadata": {
    "collapsed": false
   },
   "outputs": [],
   "source": [
    "fOut.WriteTObject(wspace)\n",
    "fOut.Close()"
   ]
  },
  {
   "cell_type": "code",
   "execution_count": null,
   "metadata": {
    "collapsed": true
   },
   "outputs": [],
   "source": []
  }
 ],
 "metadata": {
  "kernelspec": {
   "display_name": "Python 2",
   "language": "python",
   "name": "python2"
  },
  "language_info": {
   "codemirror_mode": {
    "name": "ipython",
    "version": 2
   },
   "file_extension": ".py",
   "mimetype": "text/x-python",
   "name": "python",
   "nbconvert_exporter": "python",
   "pygments_lexer": "ipython2",
   "version": "2.7.10"
  }
 },
 "nbformat": 4,
 "nbformat_minor": 1
}
