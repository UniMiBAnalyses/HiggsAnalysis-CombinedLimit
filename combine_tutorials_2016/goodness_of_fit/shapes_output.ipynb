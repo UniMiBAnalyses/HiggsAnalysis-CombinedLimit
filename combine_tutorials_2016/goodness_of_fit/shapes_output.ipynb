{
 "cells": [
  {
   "cell_type": "code",
   "execution_count": null,
   "metadata": {
    "collapsed": false
   },
   "outputs": [],
   "source": [
    "import ROOT\n",
    "%jsroot on"
   ]
  },
  {
   "cell_type": "code",
   "execution_count": null,
   "metadata": {
    "collapsed": false
   },
   "outputs": [],
   "source": [
    "f = ROOT.TFile.Open(\"mlfit.root\")\n",
    "fmask = ROOT.TFile.Open(\"mlfitmasked.root\")"
   ]
  },
  {
   "cell_type": "code",
   "execution_count": null,
   "metadata": {
    "collapsed": false
   },
   "outputs": [],
   "source": [
    "fmask.ls()"
   ]
  },
  {
   "cell_type": "markdown",
   "metadata": {},
   "source": [
    "# Background only"
   ]
  },
  {
   "cell_type": "code",
   "execution_count": null,
   "metadata": {
    "collapsed": true
   },
   "outputs": [],
   "source": [
    "h_tot = fmask.Get(\"shapes_fit_b/sr/total_background\")"
   ]
  },
  {
   "cell_type": "code",
   "execution_count": null,
   "metadata": {
    "collapsed": false
   },
   "outputs": [],
   "source": [
    "c = ROOT.TCanvas()\n",
    "h_tot.SetFillColor(ROOT.kOrange)\n",
    "h_tot.SetFillStyle(3001)\n",
    "h_tot.SetMarkerStyle(24)\n",
    "h_tot.SetMarkerSize(1.0)\n",
    "h_tot.Draw(\"E2histP\")\n",
    "c.Draw()"
   ]
  },
  {
   "cell_type": "code",
   "execution_count": null,
   "metadata": {
    "collapsed": true
   },
   "outputs": [],
   "source": [
    "h_tot_2 = f.Get(\"shapes_fit_b/sr/total_background\")"
   ]
  },
  {
   "cell_type": "code",
   "execution_count": null,
   "metadata": {
    "collapsed": false,
    "scrolled": false
   },
   "outputs": [],
   "source": [
    "h_tot_2.Draw(\"same\")\n",
    "c.Update()\n",
    "c.Draw()"
   ]
  },
  {
   "cell_type": "markdown",
   "metadata": {},
   "source": [
    "# Signal plus Background fit"
   ]
  },
  {
   "cell_type": "code",
   "execution_count": null,
   "metadata": {
    "collapsed": false
   },
   "outputs": [],
   "source": [
    "h_tot_t = f.Get(\"shapes_fit_s/sr/total\")\n",
    "h_tot_b = f.Get(\"shapes_fit_s/sr/total_background\")\n",
    "h_tot_b.SetFillStyle(3001)\n",
    "h_tot_b.SetFillColor(ROOT.kBlack)\n",
    "h_tot_b.SetLineColor(4)\n",
    "h_tot_t.SetLineColor(2)\n",
    "\n",
    "c2 = ROOT.TCanvas()\n",
    "h_tot_t.Draw()\n",
    "h_tot_t.Draw(\"histsame\")\n",
    "h_tot_b.Draw(\"sameE2\")\n",
    "\n",
    "c2.Draw()\n",
    "c2.SetLogy()\n",
    "data  = f.Get(\"shapes_fit_s/sr/data\")\n",
    "data.Draw(\"p\")"
   ]
  },
  {
   "cell_type": "code",
   "execution_count": null,
   "metadata": {
    "collapsed": true
   },
   "outputs": [],
   "source": []
  }
 ],
 "metadata": {
  "kernelspec": {
   "display_name": "Python 2",
   "language": "python",
   "name": "python2"
  },
  "language_info": {
   "codemirror_mode": {
    "name": "ipython",
    "version": 2
   },
   "file_extension": ".py",
   "mimetype": "text/x-python",
   "name": "python",
   "nbconvert_exporter": "python",
   "pygments_lexer": "ipython2",
   "version": "2.7.10"
  }
 },
 "nbformat": 4,
 "nbformat_minor": 1
}
